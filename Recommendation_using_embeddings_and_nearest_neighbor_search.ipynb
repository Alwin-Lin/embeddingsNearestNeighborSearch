{
  "nbformat": 4,
  "nbformat_minor": 0,
  "metadata": {
    "colab": {
      "provenance": [],
      "authorship_tag": "ABX9TyM+n45R9LkQ4U3WWMD5MUCo",
      "include_colab_link": true
    },
    "kernelspec": {
      "name": "python3",
      "display_name": "Python 3"
    },
    "language_info": {
      "name": "python"
    }
  },
  "cells": [
    {
      "cell_type": "markdown",
      "metadata": {
        "id": "view-in-github",
        "colab_type": "text"
      },
      "source": [
        "<a href=\"https://colab.research.google.com/github/Alwin-Lin/embeddingsNearestNeighborSearch/blob/main/Recommendation_using_embeddings_and_nearest_neighbor_search.ipynb\" target=\"_parent\"><img src=\"https://colab.research.google.com/assets/colab-badge.svg\" alt=\"Open In Colab\"/></a>"
      ]
    },
    {
      "cell_type": "markdown",
      "source": [
        "# Recommendation using embeddings and nearest neighbor search\n"
      ],
      "metadata": {
        "id": "knKS7iBAXqmo"
      }
    },
    {
      "cell_type": "markdown",
      "source": [],
      "metadata": {
        "id": "ILxcWmYyXvGt"
      }
    },
    {
      "cell_type": "code",
      "execution_count": null,
      "metadata": {
        "id": "mmjdBJ2yW4xu"
      },
      "outputs": [],
      "source": [
        "import pandas as pd\n",
        "import pickle\n",
        "import google.generativeai as genai\n",
        "from typing import List\n",
        "import numpy as np\n",
        "from sklearn.metrics.pairwise import cosine_similarity"
      ]
    },
    {
      "cell_type": "code",
      "source": [
        "genai.configure(api_key='YOUR_GEMINI_API_KEY')"
      ],
      "metadata": {
        "id": "H_ikrdYTXJ8D"
      },
      "execution_count": null,
      "outputs": []
    },
    {
      "cell_type": "code",
      "source": [
        "class EmbeddingUtils:\n",
        "    @staticmethod\n",
        "    def get_embedding(text: str, model=\"embedding-001\") -> List[float]:\n",
        "        \"\"\"Get embeddings from Gemini's embedding model.\"\"\"\n",
        "        try:\n",
        "            embedding = genai.embed_content(\n",
        "                model=model,\n",
        "                content=text,\n",
        "                task_type=\"retrieval_document\"\n",
        "            )\n",
        "            return embedding['embedding']\n",
        "        except Exception as e:\n",
        "            print(f\"Error getting embedding: {e}\")\n",
        "            return None\n",
        "\n",
        "    @staticmethod\n",
        "    def distances_from_embeddings(\n",
        "        query_embedding: List[float],\n",
        "        embeddings: List[List[float]],\n",
        "        distance_metric: str = \"cosine\"\n",
        "    ) -> List[float]:\n",
        "        \"\"\"Calculate distances between a query embedding and a list of embeddings.\"\"\"\n",
        "        query_embedding = np.array(query_embedding).reshape(1, -1)\n",
        "        embeddings = np.array(embeddings)\n",
        "\n",
        "        if distance_metric == \"cosine\":\n",
        "            similarities = cosine_similarity(query_embedding, embeddings)\n",
        "            distances = 1 - similarities[0]\n",
        "        else:\n",
        "            raise ValueError(f\"Unsupported distance metric: {distance_metric}\")\n",
        "\n",
        "        return distances.tolist()\n",
        "\n",
        "    @staticmethod\n",
        "    def indices_of_nearest_neighbors_from_distances(distances: List[float]) -> List[int]:\n",
        "        \"\"\"Get indices of nearest neighbors from distances.\"\"\"\n",
        "        return sorted(range(len(distances)), key=lambda k: distances[k])"
      ],
      "metadata": {
        "id": "Rd__CHOrXNix"
      },
      "execution_count": null,
      "outputs": []
    },
    {
      "cell_type": "code",
      "source": [
        "class RecommendationSystem:\n",
        "    def __init__(self, embedding_cache_path: str = \"recommendations_embeddings_cache.pkl\"):\n",
        "        self.embedding_cache_path = embedding_cache_path\n",
        "        self.embedding_cache = self._load_cache()\n",
        "        self.utils = EmbeddingUtils()\n",
        "\n",
        "    def _load_cache(self):\n",
        "        \"\"\"Load embedding cache from disk or create new one.\"\"\"\n",
        "        try:\n",
        "            with open(self.embedding_cache_path, 'rb') as f:\n",
        "                return pickle.load(f)\n",
        "        except FileNotFoundError:\n",
        "            return {}\n",
        "\n",
        "    def _save_cache(self):\n",
        "        \"\"\"Save embedding cache to disk.\"\"\"\n",
        "        with open(self.embedding_cache_path, 'wb') as f:\n",
        "            pickle.dump(self.embedding_cache, f)\n",
        "\n",
        "    def get_embedding_with_cache(self, text: str, model: str = \"embedding-001\") -> List[float]:\n",
        "        \"\"\"Get embedding for text, using cache if available.\"\"\"\n",
        "        cache_key = (text, model)\n",
        "        if cache_key not in self.embedding_cache:\n",
        "            self.embedding_cache[cache_key] = self.utils.get_embedding(text, model)\n",
        "            self._save_cache()\n",
        "        return self.embedding_cache[cache_key]\n",
        "\n",
        "    def get_recommendations(\n",
        "        self,\n",
        "        strings: List[str],\n",
        "        index_of_source_string: int,\n",
        "        k_nearest_neighbors: int = 1,\n",
        "        model: str = \"embedding-001\"\n",
        "    ) -> tuple[List[int], List[float]]:\n",
        "        \"\"\"Get k nearest neighbors for a source string.\"\"\"\n",
        "        # Get embeddings for all strings\n",
        "        embeddings = [\n",
        "            self.get_embedding_with_cache(string, model=model)\n",
        "            for string in strings\n",
        "        ]\n",
        "\n",
        "        # Get embedding for source string\n",
        "        query_embedding = embeddings[index_of_source_string]\n",
        "\n",
        "        # Calculate distances\n",
        "        distances = self.utils.distances_from_embeddings(\n",
        "            query_embedding,\n",
        "            embeddings,\n",
        "            distance_metric=\"cosine\"\n",
        "        )\n",
        "\n",
        "        # Get indices of nearest neighbors\n",
        "        indices = self.utils.indices_of_nearest_neighbors_from_distances(distances)\n",
        "\n",
        "        return indices, distances\n",
        "\n",
        "def print_recommendations(\n",
        "    recommender: RecommendationSystem,\n",
        "    strings: List[str],\n",
        "    index_of_source_string: int,\n",
        "    k_nearest_neighbors: int = 1\n",
        ") -> None:\n",
        "    \"\"\"Print recommendations in a formatted way.\"\"\"\n",
        "    indices, distances = recommender.get_recommendations(\n",
        "        strings=strings,\n",
        "        index_of_source_string=index_of_source_string,\n",
        "        k_nearest_neighbors=k_nearest_neighbors\n",
        "    )\n",
        "\n",
        "    # Print source string\n",
        "    query_string = strings[index_of_source_string]\n",
        "    print(f\"Source string: {query_string}\")\n",
        "\n",
        "    # Print recommendations\n",
        "    k_counter = 0\n",
        "    for i in indices:\n",
        "        # Skip identical matches\n",
        "        if query_string == strings[i]:\n",
        "            continue\n",
        "        # Stop after k recommendations\n",
        "        if k_counter >= k_nearest_neighbors:\n",
        "            break\n",
        "        k_counter += 1\n",
        "\n",
        "        print(\n",
        "            f\"\"\"\n",
        "        --- Recommendation #{k_counter} (nearest neighbor {k_counter} of {k_nearest_neighbors}) ---\n",
        "        String: {strings[i]}\n",
        "        Distance: {distances[i]:0.3f}\"\"\"\n",
        "        )"
      ],
      "metadata": {
        "id": "2jpljRyMXRab"
      },
      "execution_count": null,
      "outputs": []
    },
    {
      "cell_type": "code",
      "source": [
        "# Example usage:\n",
        "if __name__ == \"__main__\":\n",
        "    # Load data\n",
        "    dataset_path = \"data/AG_news_samples.csv\"\n",
        "    df = pd.read_csv(dataset_path)\n",
        "\n",
        "    # Initialize recommender\n",
        "    recommender = RecommendationSystem()\n",
        "\n",
        "    # Get recommendations\n",
        "    article_descriptions = df[\"description\"].tolist()\n",
        "    print_recommendations(\n",
        "        recommender=recommender,\n",
        "        strings=article_descriptions,\n",
        "        index_of_source_string=0,  # First article\n",
        "        k_nearest_neighbors=5\n",
        "    )"
      ],
      "metadata": {
        "id": "HE8jDjSKXdOL"
      },
      "execution_count": null,
      "outputs": []
    }
  ]
}